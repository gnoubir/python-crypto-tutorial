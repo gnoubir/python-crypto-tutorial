{
 "cells": [
  {
   "cell_type": "markdown",
   "metadata": {},
   "source": [
    "#  Tutorial of Applied Cryptography in Python\n",
    "\n",
    "#### Guevara Noubir\n",
    "##### Northeastern University\n",
    "\n",
    "\n",
    "A great way to consolidate your understanding of cryptographic is to use them in practical settings. There are a number of crypto libraries in Python, (cryptography, pycrypto, m2crypto). This tutorial uses the cryptography.io. This library provides high level recipes and low level interfaces to common cryptographic algorithms such as symmetric ciphers, message digests, and key derivation functions. You can download the library from [here](https://cryptography.io/) and follow the instructions. You should be able to install the library using the following command: \n",
    "\n",
    "```bash\n",
    "pip install cryptography\n",
    "```\n",
    "\n",
    "Note that you need to have pip installed. To install pip, follow the instructions [here](https://pip.pypa.io/)\n",
    "\n",
    "*note: Each code block has extra imports, so that blocks would be independent runnable code*"
   ]
  },
  {
   "cell_type": "markdown",
   "metadata": {},
   "source": [
    "## Cyrptography.io\n",
    "Cryptography components are divided into different submodules. Following is a list of these submodules (not exhaustive)\n",
    "\n",
    "* Primitive Crypto Blocks (*cryptography.hazmat*)\n",
    " * Message Digest and Hashing algorithms (*cryptography.hazmat.primitives.hashes*)\n",
    " * Symmetric encryption algorithms (*cryptography.hazmat.primitives.ciphers*)\n",
    " * Asymmetric encryption algorithms (*cryptography.hazmat.primitives.asymmetric*)\n",
    "* X.509 Ecosystem (*cryptography.x509*)\n",
    "* Full high level crypto recipe (*cryptography.fernet*)\n",
    "\n",
    "\n",
    "## Hashing Algorithms\n",
    "\n",
    "As we discussed in class, the goal is to have a long message as input and produce an output which is much shorter called the hash or message digest. Furthermore, we want it to have properties such as pre-image, second preimage, and  collision resistance. *SHA* is a family of popular hash functions.\n",
    "\n",
    "\n",
    "### Note on MD5\n",
    "\n",
    "MD5 is hashing algorithm with block size of 512 bits, and digest size of 128 bit. It was designed by Ron Rivest in 1991. MD5 is considered insecure these days, and it is highly advised **not to be used in security systems**."
   ]
  },
  {
   "cell_type": "code",
   "execution_count": 108,
   "metadata": {},
   "outputs": [
    {
     "name": "stdout",
     "output_type": "stream",
     "text": [
      "You successfully imported the necessary packages\n"
     ]
    }
   ],
   "source": [
    "from cryptography.hazmat.backends import default_backend\n",
    "from cryptography.hazmat.primitives import hashes\n",
    "import base64\n",
    "print(\"You successfully imported the necessary packages\")"
   ]
  },
  {
   "cell_type": "code",
   "execution_count": 109,
   "metadata": {},
   "outputs": [
    {
     "name": "stdout",
     "output_type": "stream",
     "text": [
      "SHA256 32 256 2OMi/1VrbIqEin/Ihxcyo6uKjbBGhcDkNmlqcfWqggY=\n"
     ]
    }
   ],
   "source": [
    "digest = hashes.Hash(hashes.SHA256(), backend=default_backend())\n",
    "digest.update(b\"A Single Message or\")\n",
    "msg_digest = digest.finalize()\n",
    "print \"SHA256\", len(msg_digest), len(msg_digest) * 8, base64.b64encode(msg_digest)"
   ]
  },
  {
   "cell_type": "markdown",
   "metadata": {},
   "source": [
    "#### You can also computer a digest one piece at a time."
   ]
  },
  {
   "cell_type": "code",
   "execution_count": 110,
   "metadata": {},
   "outputs": [
    {
     "name": "stdout",
     "output_type": "stream",
     "text": [
      "SHA256 32 256 2OMi/1VrbIqEin/Ihxcyo6uKjbBGhcDkNmlqcfWqggY=\n"
     ]
    }
   ],
   "source": [
    "digest = hashes.Hash(hashes.SHA256(), backend=default_backend())\n",
    "digest.update(b\"A Single \")\n",
    "digest.update(b\"Message or\")\n",
    "msg_digest = digest.finalize()# Notice the output size of the digest\n",
    "print \"SHA256\", len(msg_digest), len(msg_digest) * 8, base64.b64encode(msg_digest)"
   ]
  },
  {
   "cell_type": "markdown",
   "metadata": {},
   "source": [
    "#### Note that both hashing methods result in the same digest. The advantage of the second method is that you can hash a very long message (e.g., a large file that cannot fit in memory) iteratively."
   ]
  },
  {
   "cell_type": "markdown",
   "metadata": {},
   "source": [
    "### SHA Family\n",
    "\n",
    "Secure Hash Algorithm (SHA) family, is a series of hashing algorithms. Ranging from SHA-0 to SHA-3. SHA-0 should never be used, it's advised to move away from SHA-1 to SHA-2. Recent research indicates that SHA-1 is about to be broken. SHA-3 is the most recent version, published in 2015.\n",
    "\n",
    " * SHA-1: Digest size (160), Block size (512)\n",
    " * SHA-2: Digest size (224, 256, 384, or 512), Block size (512, 1024)\n",
    " * SHA-3: Digest size (224, 256, 384, 512), Block size (1600)"
   ]
  },
  {
   "cell_type": "code",
   "execution_count": 111,
   "metadata": {},
   "outputs": [
    {
     "name": "stdout",
     "output_type": "stream",
     "text": [
      "sha1 20 160\n",
      "3Nfw+zQO2zp/8ZWVUdVm3hiCjmg=\n",
      "sha224 28 224\n",
      "WYm+UTU7ZMq4BAaX1+fwHRBtgt2KRE/ci+J1Zw==\n",
      "sha256 32 256\n",
      "Wr+fCs2Rfq5Q9nUtnl1pV8tNxrzYIhzR+8TPdyWMLjg=\n",
      "sha384 48 384\n",
      "I121lIgEBkunsrznkTk8wvV1rYJT27CxN5w3vND36C9E+bUnfp/carfxDdgi6b0n\n",
      "sha512 64 512\n",
      "NRJrp7SwnPeOgak1bffPaKtUfoboqWsmNtp/ybIyhgEtggqeuGvW+uZ5TBcTbQNDnlihqxKnHGtnFuDgN4iSEw==\n"
     ]
    }
   ],
   "source": [
    "for _hash in [hashes.SHA1, hashes.SHA224, hashes.SHA256, hashes.SHA384, hashes.SHA512]:\n",
    "    digest = hashes.Hash(_hash(), backend=default_backend())\n",
    "    digest.update(b\"Network\")\n",
    "    digest.update(b\"Security\")\n",
    "    msg_digest = digest.finalize()\n",
    "    # Notice the output size of the digest\n",
    "    print _hash.name, len(msg_digest), len(msg_digest) * 8\n",
    "    print base64.b64encode(msg_digest)"
   ]
  },
  {
   "cell_type": "code",
   "execution_count": 112,
   "metadata": {},
   "outputs": [],
   "source": [
    "digest = hashes.Hash(hashes.SHA256(), backend=default_backend())\n",
    "digest.update(b\"Network\")\n",
    "digest.update(b\"Security\")\n",
    "msg_digest = digest.finalize()"
   ]
  },
  {
   "cell_type": "code",
   "execution_count": 113,
   "metadata": {},
   "outputs": [
    {
     "name": "stdout",
     "output_type": "stream",
     "text": [
      "Wr+fCs2Rfq5Q9nUtnl1pV8tNxrzYIhzR+8TPdyWMLjg=\n"
     ]
    }
   ],
   "source": [
    "print base64.b64encode(msg_digest)"
   ]
  },
  {
   "cell_type": "code",
   "execution_count": 114,
   "metadata": {},
   "outputs": [],
   "source": [
    "digest = hashes.Hash(hashes.SHA256(), backend=default_backend())\n",
    "digest.update(b\"NetworkSecurity\")\n",
    "msg_digest = digest.finalize()"
   ]
  },
  {
   "cell_type": "code",
   "execution_count": 115,
   "metadata": {},
   "outputs": [
    {
     "name": "stdout",
     "output_type": "stream",
     "text": [
      "Wr+fCs2Rfq5Q9nUtnl1pV8tNxrzYIhzR+8TPdyWMLjg=\n"
     ]
    }
   ],
   "source": [
    "print base64.b64encode(msg_digest)"
   ]
  },
  {
   "cell_type": "markdown",
   "metadata": {},
   "source": [
    "### Hash-based message authentication code (HMAC)\n",
    "\n",
    "HMAC is used for message authentications combined with a secret key. It provides integrity check and authentication.\n",
    "\n",
    "<img src=\"include/SHAhmac.png\">\n",
    "\n",
    "image source: wikipedia"
   ]
  },
  {
   "cell_type": "code",
   "execution_count": 11,
   "metadata": {},
   "outputs": [
    {
     "name": "stdout",
     "output_type": "stream",
     "text": [
      "sha224 28 224 PbMZZErt7B/61/7uvIM4pErySd/eKOuj5dNksA==\n",
      "sha256 32 256 +IpREbQ6As8r5Rb5jj/FoHOF2XKaxttepz6ZD/y5fmk=\n",
      "sha384 48 384 I/k1iBdbzdPlMltW9L6Eh/2bxLbYGA8uyd+DgiS2MupIG1efg/yyHwxx2xTecUUY\n",
      "sha512 64 512 6wopf5MXYumYmyQMbvMqUaWaXUpqVsDNC9zuMIEVArNDEbM/bvk+hOa4Cy8MKpUqTjYemgsbMBRU7vZi3Www6g==\n"
     ]
    }
   ],
   "source": [
    "from cryptography.hazmat.backends import default_backend\n",
    "from cryptography.hazmat.primitives import hashes, hmac\n",
    "import os\n",
    "\n",
    "for _hash in [hashes.SHA224, hashes.SHA256, hashes.SHA384, hashes.SHA512]:\n",
    "    h = hmac.HMAC(os.urandom(16), _hash(), backend=default_backend())\n",
    "    h.update(\"Network Security\")\n",
    "    msg_digest = h.finalize()\n",
    "    print _hash.name, len(msg_digest), len(msg_digest) * 8, base64.b64encode(msg_digest)"
   ]
  },
  {
   "cell_type": "markdown",
   "metadata": {},
   "source": [
    "## Symmetric Encryption\n",
    "\n",
    "In the following we look at the symmetric encryption algorithms. In symmetric crpto, we use the same key for encryption and decryption. Therefore, the two parties needs to establish a secret key between them. It's up to 1000 times faster than asymmetric encryption.\n",
    "\n",
    "\n",
    "### Advanced Encryption Algorithm (AES)\n",
    "\n",
    "AES is based on Rijndael encryption algorithm, designed by Joan Daemen and Vincent Rijmen. It was one of the algorithms submitted to U.S. National Institute of Standards and Technology (NIST) to replace DES and 3DES. It was published in 1998 and accepted and standardized in 2001.\n",
    "\n",
    " * AES supports key sizes of 128/192/256 bits\n",
    " * Block size: 128 bit\n",
    " * It's iterative rather than Feistel cipher\n",
    " * Treats data in 4 groups of 4 bytes\n",
    " * Operates on an entire block in every round\n",
    " * Resistant against known attacks\n",
    " * Speed and code compactness on many CPUs\n",
    " * Rijndael block and key size vary between 128, 192, 256\n",
    " * However, in AES block size in 128\n",
    " * Number of rounds a function of key size\n",
    "  * 128 bits     10 rounds\n",
    "  * 192 bits     12 rounds\n",
    "  * 256 bits     14 rounds\n",
    "\n",
    " * Today most implementations use the CPU support (Intel AES-NI)"
   ]
  },
  {
   "cell_type": "markdown",
   "metadata": {
    "collapsed": true
   },
   "source": [
    "### Block cipher mode of operation\n",
    "\n",
    "To encrypt messages of arbitrary size with block ciphers, we use the following algorithms, called the modes of operation. They define how to encrypt each block of the plaintext to produce the corresponding cipher text block. Some of these are complemetly insecure (ECB) and should not be used.\n",
    "\n",
    " * Electronic Codebook (ECB)\n",
    " * Cipher Block Chaining (CBC)\n",
    " * Cipher Feedback (CFB)\n",
    " * Output Feedback (OFB)\n",
    " * Counter (CTR)\n",
    " * Galois Counter Mode (GCM)\n",
    " \n",
    " \n",
    "### Electronic Codebook (ECB)\n",
    "\n",
    "<img src=\"include/ECB_enc.png\">\n",
    "<img src=\"include/ECB_dec.png\">\n",
    "\n",
    "\n",
    "\n",
    "### Cipher Block Chaining (CBC)\n",
    "\n",
    "<img src=\"include/CBC_enc.png\">\n",
    "<img src=\"include/CBC_dec.png\">\n",
    "\n",
    "\n",
    "\n",
    "### Counter (CTR)\n",
    "\n",
    "<img src=\"include/CTR_enc.png\">\n",
    "<img src=\"include/CTR_dec.png\">\n",
    "\n",
    "image source: wikipedia\n",
    "\n",
    "The following images are encrypted with ECB. Note that you can see the pattern in the data. Therefore, ECB is not secure or recommended to be used.\n",
    "\n",
    "<img src=\"include/tux.png\">\n",
    "<img src=\"include/ECB1.png\">\n",
    "<img src=\"include/ECB2.png\">"
   ]
  },
  {
   "cell_type": "code",
   "execution_count": 116,
   "metadata": {},
   "outputs": [],
   "source": [
    "import os\n",
    "from cryptography.hazmat.primitives.ciphers import Cipher, algorithms, modes\n",
    "from cryptography.hazmat.backends import default_backend\n",
    "key = os.urandom(16) # in bytes, 128 bits\n",
    "iv = os.urandom(16)"
   ]
  },
  {
   "cell_type": "code",
   "execution_count": 119,
   "metadata": {},
   "outputs": [
    {
     "name": "stdout",
     "output_type": "stream",
     "text": [
      "JwfVBXEJJvuOTlBrzpborPm/vHidBrqZd5SuA9EnZ6M=\n"
     ]
    }
   ],
   "source": [
    "# ECB Mode, we only need a key\n",
    "### *** DO NOT ECB. IT IS INSECURE *** ###\n",
    "\n",
    "cipher = Cipher(algorithms.AES(key), modes.ECB(), backend=default_backend())\n",
    "encryptor = cipher.encryptor()\n",
    "\n",
    "# note that we don't need padding here, since len(\"Network Security\") = 16\n",
    "cipher_text = encryptor.update(b\"Network Security1234567890123456\") + encryptor.finalize()\n",
    "print base64.b64encode(cipher_text)"
   ]
  },
  {
   "cell_type": "markdown",
   "metadata": {},
   "source": [
    "###### cipher = Cipher(algorithms.AES(key), modes.ECB(), backend=default_backend())\n",
    "encryptor = cipher.encryptor()\n",
    "ct1 = encryptor.update(\"Network Security1234567890123457\")\n",
    "encryptor.finalize()\n",
    "print base64.b64encode(ct1)"
   ]
  },
  {
   "cell_type": "code",
   "execution_count": 64,
   "metadata": {},
   "outputs": [
    {
     "data": {
      "text/plain": [
       "'Network Security1234567890123456'"
      ]
     },
     "execution_count": 64,
     "metadata": {},
     "output_type": "execute_result"
    }
   ],
   "source": [
    "decryptor = cipher.decryptor()\n",
    "decryptor.update(cipher_text) + decryptor.finalize()"
   ]
  },
  {
   "cell_type": "code",
   "execution_count": 121,
   "metadata": {},
   "outputs": [
    {
     "name": "stdout",
     "output_type": "stream",
     "text": [
      "Network Security: -\r",
      "\r",
      "\r",
      "\r",
      "\r",
      "\r",
      "\r",
      "\r",
      "\r",
      "\r",
      "\r",
      "\r",
      "\r\n",
      "JwfVBXEJJvuOTlBrzpborGRCgAxWGvjqF/G/Mu0+6q8=\n",
      "Network Security: -\n"
     ]
    }
   ],
   "source": [
    "# padding\n",
    "# first import padding \n",
    "from cryptography.hazmat.primitives import padding\n",
    "\n",
    "padder = padding.PKCS7(128).padder()\n",
    "\n",
    "# pad the plaintext\n",
    "padded_data = padder.update(b\"Network Security: -\")\n",
    "padded_data += padder.finalize()\n",
    "\n",
    "print padded_data\n",
    "\n",
    "# encrypt \n",
    "cipher = Cipher(algorithms.AES(key), modes.ECB(), backend=default_backend())\n",
    "encryptor = cipher.encryptor()\n",
    "cipher_text = encryptor.update(padded_data) + encryptor.finalize()\n",
    "print base64.b64encode(cipher_text)\n",
    "\n",
    "# decrypt\n",
    "decryptor = cipher.decryptor()\n",
    "padded_text = decryptor.update(cipher_text) + decryptor.finalize()\n",
    "\n",
    "#unpad\n",
    "unpadder = padding.PKCS7(128).unpadder()\n",
    "plain_text = unpadder.update(padded_text) + unpadder.finalize()\n",
    "print plain_text"
   ]
  },
  {
   "cell_type": "code",
   "execution_count": 122,
   "metadata": {},
   "outputs": [],
   "source": [
    "# CBC Mode, we also need an IV\n",
    "cipher = Cipher(algorithms.AES(key), modes.CBC(iv), backend=default_backend())\n",
    "encryptor = cipher.encryptor()\n",
    "\n",
    "# note that we don't need padding here, since len(\"Network Security\") = 16\n",
    "cipher_text = encryptor.update(\"Network Security\") + encryptor.finalize()"
   ]
  },
  {
   "cell_type": "code",
   "execution_count": 34,
   "metadata": {},
   "outputs": [
    {
     "data": {
      "text/plain": [
       "'w4jSTr43SVnItntvJ/kbyw=='"
      ]
     },
     "execution_count": 34,
     "metadata": {},
     "output_type": "execute_result"
    }
   ],
   "source": [
    "base64.b64encode(cipher_text)"
   ]
  },
  {
   "cell_type": "code",
   "execution_count": 35,
   "metadata": {},
   "outputs": [
    {
     "data": {
      "text/plain": [
       "'Network Security'"
      ]
     },
     "execution_count": 35,
     "metadata": {},
     "output_type": "execute_result"
    }
   ],
   "source": [
    "decryptor = cipher.decryptor()\n",
    "decryptor.update(cipher_text) + decryptor.finalize()"
   ]
  },
  {
   "cell_type": "code",
   "execution_count": 126,
   "metadata": {},
   "outputs": [],
   "source": [
    "# GCM Mode, we also need an IV\n",
    "cipher = Cipher(algorithms.AES(key), modes.GCM(iv), backend=default_backend())\n",
    "encryptor = cipher.encryptor()\n",
    "\n",
    "# note that we don't need padding here, since len(\"Network Security\") = 16\n",
    "encryptor.authenticate_additional_data(b\"Only authenticate\")\n",
    "cipher_text = encryptor.update(\"Network Security\") + encryptor.finalize()\n",
    "tag = encryptor.tag"
   ]
  },
  {
   "cell_type": "code",
   "execution_count": 127,
   "metadata": {},
   "outputs": [
    {
     "data": {
      "text/plain": [
       "'bns6Q9mUYupXl+VyJPIsAQ=='"
      ]
     },
     "execution_count": 127,
     "metadata": {},
     "output_type": "execute_result"
    }
   ],
   "source": [
    "base64.b64encode(cipher_text)"
   ]
  },
  {
   "cell_type": "code",
   "execution_count": 129,
   "metadata": {},
   "outputs": [
    {
     "data": {
      "text/plain": [
       "''"
      ]
     },
     "execution_count": 129,
     "metadata": {},
     "output_type": "execute_result"
    }
   ],
   "source": [
    "decryptor = Cipher(algorithms.AES(key), modes.GCM(iv,tag), backend=default_backend()).decryptor()\n",
    "decryptor.authenticate_additional_data(b\"Only authenticate\")\n",
    "decryptor.update(cipher_text) \n",
    "decryptor.finalize()"
   ]
  },
  {
   "cell_type": "code",
   "execution_count": 82,
   "metadata": {},
   "outputs": [],
   "source": [
    "# CTR Mode, we don't need padding in CTR mode. In transforms a block cipher into a stream cipher\n",
    "# we only need to introduce the nonce\n",
    "cipher = Cipher(algorithms.AES(key), modes.CTR(os.urandom(16)), backend=default_backend())\n",
    "encryptor = cipher.encryptor()\n",
    "# len(\"Network Security CS 6740\") = 25, but no padding is needed\n",
    "cipher_text = encryptor.update(\"Network Security CS(6740)\") + encryptor.finalize()"
   ]
  },
  {
   "cell_type": "code",
   "execution_count": 83,
   "metadata": {},
   "outputs": [
    {
     "data": {
      "text/plain": [
       "'jI90CwaOqlWSVMexQTIF2A1oFvWWvvVlrA=='"
      ]
     },
     "execution_count": 83,
     "metadata": {},
     "output_type": "execute_result"
    }
   ],
   "source": [
    "base64.b64encode(cipher_text)"
   ]
  },
  {
   "cell_type": "code",
   "execution_count": 84,
   "metadata": {},
   "outputs": [
    {
     "data": {
      "text/plain": [
       "'Network Security CS(6740)'"
      ]
     },
     "execution_count": 84,
     "metadata": {},
     "output_type": "execute_result"
    }
   ],
   "source": [
    "decryptor = cipher.decryptor()\n",
    "decryptor.update(cipher_text) + decryptor.finalize()"
   ]
  },
  {
   "cell_type": "markdown",
   "metadata": {},
   "source": [
    "## Asymmetric Encryption\n",
    "\n",
    "Asymmetric encryption mechanism use two different keys for encryption and decryption. Therefore, the two parties do not need to share a secret key between them.\n",
    "\n",
    "\n",
    "### RSA\n",
    "\n",
    "RSA, is an asymmetric encryption algorithm by Ron Rivest, Adi Shamir, and Leonard Adleman. It was published in 1977. It's security is based on the hardness of factorization problem. However, now it has its own problem, called the RSA problem. RSA is slow, and is not used for encryptin large data, but it's mostly used to encrypt the symmetric key that is used for encryption.\n",
    "\n",
    "\n",
    " * p, q, two big prime numbers (private, chosen)\n",
    " * n = pq, f(n) = (p-1)(q-1)   (public, calculated)\n",
    " * e, with gcd(f(n), e) = 1,  1 < e < f(n)\t(public, chosen)\n",
    " * d = e-1 mod f(n)\t(private, calculated)\n",
    " * $E(M) = M^e \\mod n$\n",
    " * $D(M) = M^d \\mod n$\n",
    " * $D(E(M)) = M^{ed} \\mod n = M$\n",
    " \n",
    " \n"
   ]
  },
  {
   "cell_type": "code",
   "execution_count": 130,
   "metadata": {},
   "outputs": [],
   "source": [
    "# Generate a 2048 bit private key\n",
    "from cryptography.hazmat.backends import default_backend\n",
    "from cryptography.hazmat.primitives.asymmetric import rsa\n",
    "\n",
    "private_key = rsa.generate_private_key(\n",
    "    public_exponent=65537,\n",
    "    key_size=2048,\n",
    "    backend=default_backend())\n",
    "# to get the public key\n",
    "public_key = private_key.public_key()"
   ]
  },
  {
   "cell_type": "markdown",
   "metadata": {},
   "source": [
    "<img src=\"include/RSA_OAEP.png\">\n",
    "\n",
    "image souce: wikipedia"
   ]
  },
  {
   "cell_type": "code",
   "execution_count": 133,
   "metadata": {},
   "outputs": [
    {
     "data": {
      "text/plain": [
       "'AK9kI6ocn8Rs41esBjHqFIrNmDzKk4TjVIFcFEHuyYfLg+fxgdr0ofycIxd32VtIkQWj8gGw95V1lRDq0/tT1Zs0WMe5kb4qA874wGfC5SatNI4RbVGB9DI82RiFpQ3BWM0lbUxR+A9qgM0ef5zcCs7yzQeLSa9zEpr1ZJxeEG2CaFkJGjWriNzIkKVouOa9WDHqjZbMoz7btSRf9t0uTl5Jg43RLAx0sQd6z6a1B/2lJ7Ih8ws4bwR3ibWZB03CfVe0EdF7RBypyzd4g8aoQn0kei2ah/YphHK5rKz0OMBw2ilHJOOeWljlZv96b/FoYwTKG7xB7t1RvL50mymUXw=='"
      ]
     },
     "execution_count": 133,
     "metadata": {},
     "output_type": "execute_result"
    }
   ],
   "source": [
    "from cryptography.hazmat.backends import default_backend\n",
    "from cryptography.hazmat.primitives import hashes\n",
    "from cryptography.hazmat.primitives.asymmetric import padding\n",
    "\n",
    "message = b\"Network Security:\"\n",
    "ciphertext = public_key.encrypt(\n",
    "    message,\n",
    "    padding.OAEP(\n",
    "        mgf=padding.MGF1(algorithm=hashes.SHA256()),\n",
    "        algorithm=hashes.SHA256(),\n",
    "        label=None))\n",
    "base64.b64encode(ciphertext)"
   ]
  },
  {
   "cell_type": "code",
   "execution_count": 134,
   "metadata": {},
   "outputs": [
    {
     "data": {
      "text/plain": [
       "'Network Security:'"
      ]
     },
     "execution_count": 134,
     "metadata": {},
     "output_type": "execute_result"
    }
   ],
   "source": [
    "from cryptography.hazmat.backends import default_backend\n",
    "from cryptography.hazmat.primitives import hashes\n",
    "from cryptography.hazmat.primitives.asymmetric import padding\n",
    "\n",
    "plaintext = private_key.decrypt(\n",
    "    ciphertext,\n",
    "    padding.OAEP(\n",
    "        mgf=padding.MGF1(algorithm=hashes.SHA256()),\n",
    "        algorithm=hashes.SHA256(),\n",
    "        label=None))\n",
    "plaintext"
   ]
  },
  {
   "cell_type": "code",
   "execution_count": 135,
   "metadata": {},
   "outputs": [
    {
     "data": {
      "text/plain": [
       "True"
      ]
     },
     "execution_count": 135,
     "metadata": {},
     "output_type": "execute_result"
    }
   ],
   "source": [
    "plaintext == message"
   ]
  },
  {
   "cell_type": "markdown",
   "metadata": {},
   "source": [
    "### OpenSSL - RSA\n",
    "\n",
    "To generate keys, use the following instructions:\n",
    "\n",
    "```bash\n",
    " openssl genrsa -out private_key.pem 2048\n",
    " openssl pkcs8 -topk8 -inform PEM -outform DER -in private_key.pem -out private_key.der -nocrypt\n",
    " openssl rsa -in private_key.pem -pubout -outform DER -out public_key.der\n",
    " ```\n",
    " "
   ]
  },
  {
   "cell_type": "code",
   "execution_count": 105,
   "metadata": {
    "scrolled": true
   },
   "outputs": [
    {
     "name": "stderr",
     "output_type": "stream",
     "text": [
      "Generating RSA private key, 2048 bit long modulus\n",
      "....+++\n",
      "....................+++\n",
      "e is 65537 (0x10001)\n",
      "writing RSA key\n"
     ]
    }
   ],
   "source": [
    "%%bash\n",
    "openssl genrsa -out private_key.pem 2048\n",
    "openssl pkcs8 -topk8 -inform PEM -outform DER -in private_key.pem -out private_key.der -nocrypt\n",
    "openssl rsa -in private_key.pem -pubout -outform DER -out public_key.der"
   ]
  },
  {
   "cell_type": "code",
   "execution_count": 106,
   "metadata": {},
   "outputs": [],
   "source": [
    "# import key from a file. E.g., previously generated by OpenSSL\n",
    "from cryptography.hazmat.backends import default_backend\n",
    "from cryptography.hazmat.primitives import serialization\n",
    "\n",
    "with open(\"private_key.pem\", \"rb\") as key_file:\n",
    "     private_key = serialization.load_pem_private_key(\n",
    "            key_file.read(),\n",
    "            password=None,\n",
    "            backend=default_backend())\n",
    "public_key = private_key.public_key()"
   ]
  },
  {
   "cell_type": "code",
   "execution_count": null,
   "metadata": {},
   "outputs": [],
   "source": []
  },
  {
   "cell_type": "code",
   "execution_count": null,
   "metadata": {},
   "outputs": [],
   "source": []
  },
  {
   "cell_type": "code",
   "execution_count": null,
   "metadata": {},
   "outputs": [],
   "source": []
  },
  {
   "cell_type": "code",
   "execution_count": null,
   "metadata": {},
   "outputs": [],
   "source": []
  }
 ],
 "metadata": {
  "kernelspec": {
   "display_name": "Python 2",
   "language": "python",
   "name": "python2"
  },
  "language_info": {
   "codemirror_mode": {
    "name": "ipython",
    "version": 2
   },
   "file_extension": ".py",
   "mimetype": "text/x-python",
   "name": "python",
   "nbconvert_exporter": "python",
   "pygments_lexer": "ipython2",
   "version": "2.7.15"
  }
 },
 "nbformat": 4,
 "nbformat_minor": 1
}
